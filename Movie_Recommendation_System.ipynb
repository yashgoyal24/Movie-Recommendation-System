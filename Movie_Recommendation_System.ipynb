{
  "nbformat": 4,
  "nbformat_minor": 0,
  "metadata": {
    "colab": {
      "name": "DMG_ASS2.ipynb",
      "provenance": [],
      "collapsed_sections": []
    },
    "kernelspec": {
      "name": "python3",
      "display_name": "Python 3"
    },
    "language_info": {
      "name": "python"
    }
  },
  "cells": [
    {
      "cell_type": "markdown",
      "metadata": {
        "id": "P9rAUzfFOiUV"
      },
      "source": [
        "question 1"
      ]
    },
    {
      "cell_type": "code",
      "metadata": {
        "id": "Ely_PyUcKsaj"
      },
      "source": [
        "import pandas as pd\n",
        "movies=pd.read_csv(\"/content/drive/My Drive/DMG_ASS2/movies.csv\")\n",
        "ratings=pd.read_csv(\"/content/drive/My Drive/DMG_ASS2/ratings.csv\")\n",
        "links=pd.read_csv(\"/content/drive/My Drive/DMG_ASS2/links.csv\")\n",
        "tags=pd.read_csv(\"/content/drive/My Drive/DMG_ASS2/tags.csv\")"
      ],
      "execution_count": null,
      "outputs": []
    },
    {
      "cell_type": "markdown",
      "metadata": {
        "id": "4pp6fK8sLVqw"
      },
      "source": [
        "movies"
      ]
    },
    {
      "cell_type": "code",
      "metadata": {
        "colab": {
          "base_uri": "https://localhost:8080/"
        },
        "id": "B8-CbEIdLPGN",
        "outputId": "bb56a6d0-fcfd-4937-b767-c5c0464810f7"
      },
      "source": [
        "from scipy.stats import mode\n",
        "\n",
        "print(\"Statistics of Numerical Feature\\n\")\n",
        "print(movies.describe())\n",
        "print(\"\\nGeneral Information\\n\")\n",
        "print(movies.info())\n",
        "print(\"\\nNumber of NaN Values in each column is \\n\")\n",
        "print(movies.isnull().sum(axis = 0))\n",
        "from scipy.stats import mode\n",
        "print(\"\\nMode values:\")\n",
        "print(\"\\nGenres\\n\")\n",
        "print(movies.genres.mode())"
      ],
      "execution_count": null,
      "outputs": [
        {
          "output_type": "stream",
          "name": "stdout",
          "text": [
            "Statistics of Numerical Feature\n",
            "\n",
            "             movieId\n",
            "count    9742.000000\n",
            "mean    42200.353623\n",
            "std     52160.494854\n",
            "min         1.000000\n",
            "25%      3248.250000\n",
            "50%      7300.000000\n",
            "75%     76232.000000\n",
            "max    193609.000000\n",
            "\n",
            "General Information\n",
            "\n",
            "<class 'pandas.core.frame.DataFrame'>\n",
            "RangeIndex: 9742 entries, 0 to 9741\n",
            "Data columns (total 3 columns):\n",
            " #   Column   Non-Null Count  Dtype \n",
            "---  ------   --------------  ----- \n",
            " 0   movieId  9742 non-null   int64 \n",
            " 1   title    9742 non-null   object\n",
            " 2   genres   9742 non-null   object\n",
            "dtypes: int64(1), object(2)\n",
            "memory usage: 228.5+ KB\n",
            "None\n",
            "\n",
            "Number of NaN Values in each column is \n",
            "\n",
            "movieId    0\n",
            "title      0\n",
            "genres     0\n",
            "dtype: int64\n",
            "\n",
            "Mode values:\n",
            "\n",
            "Genres\n",
            "\n",
            "0    Drama\n",
            "dtype: object\n"
          ]
        }
      ]
    },
    {
      "cell_type": "markdown",
      "metadata": {
        "id": "i_jO5m_zLaoG"
      },
      "source": [
        "Ratings"
      ]
    },
    {
      "cell_type": "code",
      "metadata": {
        "colab": {
          "base_uri": "https://localhost:8080/"
        },
        "id": "Ts-1M5YCLcQR",
        "outputId": "09fa8424-4c04-4131-90ba-32a60970bc3c"
      },
      "source": [
        "print(\"Statistics of Numerical Feature\\n\")\n",
        "print(ratings.describe())\n",
        "print(\"\\nGeneral Information\\n\")\n",
        "print(ratings.info())\n",
        "print(\"\\nNumber of NaN Values in each column is \\n\")\n",
        "print(ratings.isnull().sum(axis = 0))\n",
        "print(\"\\nMode values:\\n\")\n",
        "print(\"\\nUser who watched most movies\\n\")\n",
        "print(ratings.userId.mode())\n",
        "print(\"\\nMovie most watched\\n\")\n",
        "print(ratings.movieId.mode())"
      ],
      "execution_count": null,
      "outputs": [
        {
          "output_type": "stream",
          "name": "stdout",
          "text": [
            "Statistics of Numerical Feature\n",
            "\n",
            "              userId        movieId         rating     timestamp\n",
            "count  100836.000000  100836.000000  100836.000000  1.008360e+05\n",
            "mean      326.127564   19435.295718       3.501557  1.205946e+09\n",
            "std       182.618491   35530.987199       1.042529  2.162610e+08\n",
            "min         1.000000       1.000000       0.500000  8.281246e+08\n",
            "25%       177.000000    1199.000000       3.000000  1.019124e+09\n",
            "50%       325.000000    2991.000000       3.500000  1.186087e+09\n",
            "75%       477.000000    8122.000000       4.000000  1.435994e+09\n",
            "max       610.000000  193609.000000       5.000000  1.537799e+09\n",
            "\n",
            "General Information\n",
            "\n",
            "<class 'pandas.core.frame.DataFrame'>\n",
            "RangeIndex: 100836 entries, 0 to 100835\n",
            "Data columns (total 4 columns):\n",
            " #   Column     Non-Null Count   Dtype  \n",
            "---  ------     --------------   -----  \n",
            " 0   userId     100836 non-null  int64  \n",
            " 1   movieId    100836 non-null  int64  \n",
            " 2   rating     100836 non-null  float64\n",
            " 3   timestamp  100836 non-null  int64  \n",
            "dtypes: float64(1), int64(3)\n",
            "memory usage: 3.1 MB\n",
            "None\n",
            "\n",
            "Number of NaN Values in each column is \n",
            "\n",
            "userId       0\n",
            "movieId      0\n",
            "rating       0\n",
            "timestamp    0\n",
            "dtype: int64\n",
            "\n",
            "Mode values:\n",
            "\n",
            "\n",
            "User who watched most movies\n",
            "\n",
            "0    414\n",
            "dtype: int64\n",
            "\n",
            "Movie most watched\n",
            "\n",
            "0    356\n",
            "dtype: int64\n"
          ]
        }
      ]
    },
    {
      "cell_type": "code",
      "metadata": {
        "colab": {
          "base_uri": "https://localhost:8080/",
          "height": 271
        },
        "id": "qvAe8s7oLl8O",
        "outputId": "3ee7068c-14cd-41fe-c3a0-94c90195ebdd"
      },
      "source": [
        "import matplotlib.pyplot as plt\n",
        "import numpy\n",
        "correlations = ratings.corr()\n",
        "# plot correlation matrix\n",
        "fig = plt.figure()\n",
        "ax = fig.add_subplot(111)\n",
        "cax = ax.matshow(correlations, vmin=-1, vmax=1)\n",
        "fig.colorbar(cax)\n",
        "ticks = numpy.arange(0,4,1)\n",
        "ax.set_xticks(ticks)\n",
        "ax.set_yticks(ticks)\n",
        "ax.set_xticklabels(list(ratings))\n",
        "ax.set_yticklabels(list(ratings))\n",
        "plt.show()"
      ],
      "execution_count": null,
      "outputs": [
        {
          "output_type": "display_data",
          "data": {
            "image/png": "[encoded data removed]",
            "text/plain": [
              "<Figure size 432x288 with 2 Axes>"
            ]
          },
          "metadata": {
            "needs_background": "light"
          }
        }
      ]
    },
    {
      "cell_type": "code",
      "metadata": {
        "colab": {
          "base_uri": "https://localhost:8080/",
          "height": 198
        },
        "id": "Bjq9STSmLrPc",
        "outputId": "902b9c98-1dd2-4792-bc88-bb29769fa116"
      },
      "source": [
        "import matplotlib.pyplot as plt\n",
        "users_voted_count = ratings.groupby('movieId')['rating'].agg('count')\n",
        "f,ax = plt.subplots(1,1,figsize=(20,5))\n",
        "plt.scatter(users_voted_count.index,users_voted_count)\n",
        "plt.ylabel('Number of users voted for a particular movie')\n",
        "plt.xlabel('ID of movie')\n",
        "plt.show()\n"
      ],
      "execution_count": null,
      "outputs": [
        {
          "output_type": "display_data",
          "data": {
            "image/png": "[encoded data removed]",
            "text/plain": [
              "<Figure size 1440x360 with 1 Axes>"
            ]
          },
          "metadata": {
            "needs_background": "light"
          }
        }
      ]
    },
    {
      "cell_type": "code",
      "metadata": {
        "colab": {
          "base_uri": "https://localhost:8080/",
          "height": 198
        },
        "id": "QvN7HFKxLvhu",
        "outputId": "29510805-0cf3-43f3-b919-4ac479581fc7"
      },
      "source": [
        "import matplotlib.pyplot as plt\n",
        "movies_voted_count = ratings.groupby('userId')['rating'].agg('count')\n",
        "f,ax = plt.subplots(1,1,figsize=(20,5))\n",
        "plt.scatter(movies_voted_count.index,movies_voted_count)\n",
        "plt.ylabel('Votes count for a particular user')\n",
        "plt.xlabel('ID of user')\n",
        "plt.show()\n"
      ],
      "execution_count": null,
      "outputs": [
        {
          "output_type": "display_data",
          "data": {
            "image/png": "[encoded data removed]",
            "text/plain": [
              "<Figure size 1440x360 with 1 Axes>"
            ]
          },
          "metadata": {
            "needs_background": "light"
          }
        }
      ]
    },
    {
      "cell_type": "markdown",
      "metadata": {
        "id": "9SinAt9mL_AM"
      },
      "source": [
        "Links"
      ]
    },
    {
      "cell_type": "code",
      "metadata": {
        "colab": {
          "base_uri": "https://localhost:8080/"
        },
        "id": "0KvNoCdJL0qJ",
        "outputId": "03bc7589-f7cb-4594-bf84-6d7cea612fcc"
      },
      "source": [
        "print(\"Statistics of Numerical Feature\\n\")\n",
        "print(links.describe())\n",
        "print(\"\\nGeneral Information\\n\")\n",
        "print(links.info())\n",
        "print(\"\\nNumber of NaN Values in each column is \\n\")\n",
        "print(links.isnull().sum(axis = 0))"
      ],
      "execution_count": null,
      "outputs": [
        {
          "output_type": "stream",
          "name": "stdout",
          "text": [
            "Statistics of Numerical Feature\n",
            "\n",
            "             movieId        imdbId         tmdbId\n",
            "count    9742.000000  9.742000e+03    9734.000000\n",
            "mean    42200.353623  6.771839e+05   55162.123793\n",
            "std     52160.494854  1.107228e+06   93653.481487\n",
            "min         1.000000  4.170000e+02       2.000000\n",
            "25%      3248.250000  9.518075e+04    9665.500000\n",
            "50%      7300.000000  1.672605e+05   16529.000000\n",
            "75%     76232.000000  8.055685e+05   44205.750000\n",
            "max    193609.000000  8.391976e+06  525662.000000\n",
            "\n",
            "General Information\n",
            "\n",
            "<class 'pandas.core.frame.DataFrame'>\n",
            "RangeIndex: 9742 entries, 0 to 9741\n",
            "Data columns (total 3 columns):\n",
            " #   Column   Non-Null Count  Dtype  \n",
            "---  ------   --------------  -----  \n",
            " 0   movieId  9742 non-null   int64  \n",
            " 1   imdbId   9742 non-null   int64  \n",
            " 2   tmdbId   9734 non-null   float64\n",
            "dtypes: float64(1), int64(2)\n",
            "memory usage: 228.5 KB\n",
            "None\n",
            "\n",
            "Number of NaN Values in each column is \n",
            "\n",
            "movieId    0\n",
            "imdbId     0\n",
            "tmdbId     8\n",
            "dtype: int64\n"
          ]
        }
      ]
    },
    {
      "cell_type": "code",
      "metadata": {
        "colab": {
          "base_uri": "https://localhost:8080/",
          "height": 271
        },
        "id": "jHEJv3JgMH6o",
        "outputId": "4dc0a761-3209-4ebe-e66f-0ee334e7e6b0"
      },
      "source": [
        "import matplotlib.pyplot as plt\n",
        "import numpy\n",
        "correlations = links.corr()\n",
        "# plot correlation matrix\n",
        "fig = plt.figure()\n",
        "ax = fig.add_subplot(111)\n",
        "cax = ax.matshow(correlations, vmin=-1, vmax=1)\n",
        "fig.colorbar(cax)\n",
        "ticks = numpy.arange(0,3,1)\n",
        "ax.set_xticks(ticks)\n",
        "ax.set_yticks(ticks)\n",
        "ax.set_xticklabels(list(links))\n",
        "ax.set_yticklabels(list(links))\n",
        "plt.show()"
      ],
      "execution_count": null,
      "outputs": [
        {
          "output_type": "display_data",
          "data": {
            "image/png": "[encoded data removed]",
            "text/plain": [
              "<Figure size 432x288 with 2 Axes>"
            ]
          },
          "metadata": {
            "needs_background": "light"
          }
        }
      ]
    },
    {
      "cell_type": "markdown",
      "metadata": {
        "id": "Szx9jBflMQRq"
      },
      "source": [
        "Tags"
      ]
    },
    {
      "cell_type": "code",
      "metadata": {
        "colab": {
          "base_uri": "https://localhost:8080/"
        },
        "id": "wfGduWzlMR36",
        "outputId": "fc7fc78c-5cf5-41ce-e0ba-63a3302932ec"
      },
      "source": [
        "print(\"Statistics of Numerical Feature\\n\")\n",
        "print(tags.describe())\n",
        "print(\"\\nGeneral Information\\n\")\n",
        "print(tags.info())\n",
        "print(\"\\nNumber of NaN Values in each column is \\n\")\n",
        "print(tags.isnull().sum(axis = 0))\n",
        "print(\"\\nMode values:\\n\")\n",
        "print(\"\\nUser who tagged most movies\\n\")\n",
        "print(tags.userId.mode())\n",
        "print(\"\\nMovie most tagged\\n\")\n",
        "print(tags.movieId.mode())"
      ],
      "execution_count": null,
      "outputs": [
        {
          "output_type": "stream",
          "name": "stdout",
          "text": [
            "Statistics of Numerical Feature\n",
            "\n",
            "            userId        movieId     timestamp\n",
            "count  3683.000000    3683.000000  3.683000e+03\n",
            "mean    431.149335   27252.013576  1.320032e+09\n",
            "std     158.472553   43490.558803  1.721025e+08\n",
            "min       2.000000       1.000000  1.137179e+09\n",
            "25%     424.000000    1262.500000  1.137521e+09\n",
            "50%     474.000000    4454.000000  1.269833e+09\n",
            "75%     477.000000   39263.000000  1.498457e+09\n",
            "max     610.000000  193565.000000  1.537099e+09\n",
            "\n",
            "General Information\n",
            "\n",
            "<class 'pandas.core.frame.DataFrame'>\n",
            "RangeIndex: 3683 entries, 0 to 3682\n",
            "Data columns (total 4 columns):\n",
            " #   Column     Non-Null Count  Dtype \n",
            "---  ------     --------------  ----- \n",
            " 0   userId     3683 non-null   int64 \n",
            " 1   movieId    3683 non-null   int64 \n",
            " 2   tag        3683 non-null   object\n",
            " 3   timestamp  3683 non-null   int64 \n",
            "dtypes: int64(3), object(1)\n",
            "memory usage: 115.2+ KB\n",
            "None\n",
            "\n",
            "Number of NaN Values in each column is \n",
            "\n",
            "userId       0\n",
            "movieId      0\n",
            "tag          0\n",
            "timestamp    0\n",
            "dtype: int64\n",
            "\n",
            "Mode values:\n",
            "\n",
            "\n",
            "User who tagged most movies\n",
            "\n",
            "0    474\n",
            "dtype: int64\n",
            "\n",
            "Movie most tagged\n",
            "\n",
            "0    296\n",
            "dtype: int64\n"
          ]
        }
      ]
    },
    {
      "cell_type": "markdown",
      "metadata": {
        "id": "wCJNrUkCMaWW"
      },
      "source": [
        "Question 2"
      ]
    },
    {
      "cell_type": "code",
      "metadata": {
        "id": "u4rjytOHD_Fa"
      },
      "source": [
        "import pandas as pd\n",
        "\n",
        "movies=pd.read_csv(\"/content/drive/My Drive/DMG_ASS2/movies.csv\")\n",
        "ratings=pd.read_csv(\"/content/drive/My Drive/DMG_ASS2/ratings.csv\")"
      ],
      "execution_count": null,
      "outputs": []
    },
    {
      "cell_type": "code",
      "metadata": {
        "id": "rMAc3WN3Ycip"
      },
      "source": [
        "temp=[]\n",
        "for i in movies.index:\n",
        "  x=(movies.iloc[i]['genres']).split('|')\n",
        "  for j in x:\n",
        "    temp.append(j)\n",
        "\n",
        "genres_vocab=list(set(temp))\n"
      ],
      "execution_count": null,
      "outputs": []
    },
    {
      "cell_type": "code",
      "metadata": {
        "id": "VBIbyGQGEnrS"
      },
      "source": [
        "top_rated=[]\n",
        "rating_list=[]\n",
        "\n",
        "for i in range(len(movies)):\n",
        "  try:\n",
        "    r=list((ratings[ratings.movieId==movies['movieId'][i]]).rating)\n",
        "    avg_r=sum(r)\n",
        "  except:\n",
        "    avg_r=0\n",
        "  top_rated.append(movies['movieId'][i])\n",
        "  rating_list.append(avg_r)\n",
        "\n",
        "n=len(rating_list)\n",
        "for i in range(n):\n",
        "  for j in range(n-i-1):\n",
        "    if rating_list[j]<rating_list[j+1]:\n",
        "      rating_list[j],rating_list[j+1]=rating_list[j+1],rating_list[j]\n",
        "      top_rated[j],top_rated[j+1]=top_rated[j+1],top_rated[j]\n",
        "\n",
        "\n",
        "top_rated=top_rated[0:100]\n",
        "#list((ratings[ratings.movieId==movies['movieId'][0]]).rating)"
      ],
      "execution_count": null,
      "outputs": []
    },
    {
      "cell_type": "code",
      "metadata": {
        "id": "X8xvUSnrQl_d"
      },
      "source": [
        "movies_data=[]\n",
        "\n",
        "for i in set(ratings['userId']):\n",
        "  movies_data.append(list(ratings[ratings['userId']==i].movieId))\n"
      ],
      "execution_count": null,
      "outputs": []
    },
    {
      "cell_type": "code",
      "metadata": {
        "id": "cQP7IZApUbIo",
        "colab": {
          "base_uri": "https://localhost:8080/"
        },
        "outputId": "1fb9962d-7c7a-453f-a33e-8091e501dd0b"
      },
      "source": [
        "%pip install mlxtend --upgrade"
      ],
      "execution_count": null,
      "outputs": [
        {
          "output_type": "stream",
          "name": "stdout",
          "text": [
            "Requirement already satisfied: mlxtend in /usr/local/lib/python3.7/dist-packages (0.14.0)\n",
            "Collecting mlxtend\n",
            "  Downloading mlxtend-0.19.0-py2.py3-none-any.whl (1.3 MB)\n",
            "\u001b[K     |████████████████████████████████| 1.3 MB 7.6 MB/s \n",
            "\u001b[?25hRequirement already satisfied: joblib>=0.13.2 in /usr/local/lib/python3.7/dist-packages (from mlxtend) (1.1.0)\n",
            "Requirement already satisfied: scikit-learn>=0.20.3 in /usr/local/lib/python3.7/dist-packages (from mlxtend) (1.0.1)\n",
            "Requirement already satisfied: matplotlib>=3.0.0 in /usr/local/lib/python3.7/dist-packages (from mlxtend) (3.2.2)\n",
            "Requirement already satisfied: numpy>=1.16.2 in /usr/local/lib/python3.7/dist-packages (from mlxtend) (1.19.5)\n",
            "Requirement already satisfied: setuptools in /usr/local/lib/python3.7/dist-packages (from mlxtend) (57.4.0)\n",
            "Requirement already satisfied: scipy>=1.2.1 in /usr/local/lib/python3.7/dist-packages (from mlxtend) (1.4.1)\n",
            "Requirement already satisfied: pandas>=0.24.2 in /usr/local/lib/python3.7/dist-packages (from mlxtend) (1.1.5)\n",
            "Requirement already satisfied: python-dateutil>=2.1 in /usr/local/lib/python3.7/dist-packages (from matplotlib>=3.0.0->mlxtend) (2.8.2)\n",
            "Requirement already satisfied: cycler>=0.10 in /usr/local/lib/python3.7/dist-packages (from matplotlib>=3.0.0->mlxtend) (0.11.0)\n",
            "Requirement already satisfied: kiwisolver>=1.0.1 in /usr/local/lib/python3.7/dist-packages (from matplotlib>=3.0.0->mlxtend) (1.3.2)\n",
            "Requirement already satisfied: pyparsing!=2.0.4,!=2.1.2,!=2.1.6,>=2.0.1 in /usr/local/lib/python3.7/dist-packages (from matplotlib>=3.0.0->mlxtend) (3.0.6)\n",
            "Requirement already satisfied: pytz>=2017.2 in /usr/local/lib/python3.7/dist-packages (from pandas>=0.24.2->mlxtend) (2018.9)\n",
            "Requirement already satisfied: six>=1.5 in /usr/local/lib/python3.7/dist-packages (from python-dateutil>=2.1->matplotlib>=3.0.0->mlxtend) (1.15.0)\n",
            "Requirement already satisfied: threadpoolctl>=2.0.0 in /usr/local/lib/python3.7/dist-packages (from scikit-learn>=0.20.3->mlxtend) (3.0.0)\n",
            "Installing collected packages: mlxtend\n",
            "  Attempting uninstall: mlxtend\n",
            "    Found existing installation: mlxtend 0.14.0\n",
            "    Uninstalling mlxtend-0.14.0:\n",
            "      Successfully uninstalled mlxtend-0.14.0\n",
            "Successfully installed mlxtend-0.19.0\n"
          ]
        }
      ]
    },
    {
      "cell_type": "code",
      "metadata": {
        "id": "FlHZBDWqS9zu"
      },
      "source": [
        "import pandas as pd\n",
        "from mlxtend.preprocessing import TransactionEncoder\n",
        "\n",
        "te = TransactionEncoder()\n",
        "te_ary = te.fit(movies_data).transform(movies_data)\n",
        "movies_df = pd.DataFrame(te_ary, columns=te.columns_)\n"
      ],
      "execution_count": null,
      "outputs": []
    },
    {
      "cell_type": "code",
      "metadata": {
        "id": "0wGciq6ArTym"
      },
      "source": [
        "from mlxtend.frequent_patterns import fpgrowth\n",
        "\n",
        "freq_pat=fpgrowth(movies_df, min_support=0.1,use_colnames=True)\n"
      ],
      "execution_count": null,
      "outputs": []
    },
    {
      "cell_type": "code",
      "metadata": {
        "id": "8EwrwQYiVtkh"
      },
      "source": [
        "from mlxtend.frequent_patterns import association_rules\n",
        "rules=association_rules(freq_pat,metric=\"confidence\",min_threshold=0.2)\n",
        "\n",
        "#temp=[]\n",
        "#for i in list(rules['antecedents']):\n",
        " # for j in list(i):\n",
        "  #  temp.append(j)\n",
        "\n"
      ],
      "execution_count": null,
      "outputs": []
    },
    {
      "cell_type": "code",
      "metadata": {
        "id": "-s7CHdpjp04o"
      },
      "source": [
        "import numpy as np\n",
        "\n",
        "rules_arr=np.array(rules.sort_values(['lift','confidence'],ascending=False))\n"
      ],
      "execution_count": null,
      "outputs": []
    },
    {
      "cell_type": "code",
      "metadata": {
        "id": "B6PxlEushYal"
      },
      "source": [
        "from scipy import spatial\n",
        "import numpy as np\n",
        "\n",
        "def cosinesim(test,target):\n",
        "  test_genres=np.zeros(len(genres_vocab),dtype='float')\n",
        "  for m in test:\n",
        "    g=(list(movies[movies['movieId']==m].genres))[0]\n",
        "    for j in g.split('|'):\n",
        "      test_genres[(genres_vocab.index(j))]+=1\n",
        "  \n",
        "  target_genres=np.zeros(len(genres_vocab))\n",
        "  g=(list(movies[movies['movieId']==target].genres))[0]\n",
        "  for j in g.split('|'):\n",
        "    target_genres[(genres_vocab.index(j))]+=1\n",
        "  \n",
        "  result = 1 - spatial.distance.cosine(test_genres, target_genres)\n",
        "  return result\n"
      ],
      "execution_count": null,
      "outputs": []
    },
    {
      "cell_type": "code",
      "source": [
        "top_rated[:4]"
      ],
      "metadata": {
        "colab": {
          "base_uri": "https://localhost:8080/"
        },
        "id": "36gbwvYnIPZd",
        "outputId": "811cda73-c195-4412-8abd-3bdb62522002"
      },
      "execution_count": null,
      "outputs": [
        {
          "output_type": "execute_result",
          "data": {
            "text/plain": [
              "[296, 608, 2959, 293]"
            ]
          },
          "metadata": {},
          "execution_count": 98
        }
      ]
    },
    {
      "cell_type": "code",
      "metadata": {
        "id": "8_mDNPpPL-UR",
        "colab": {
          "base_uri": "https://localhost:8080/"
        },
        "outputId": "4d9b3bd6-32bb-4295-9308-890faaaee49c"
      },
      "source": [
        "import pandas as pd\n",
        "import copy\n",
        "\n",
        "sample=pd.read_csv('X_test_multiX4.tsv',delimiter='\\t')\n",
        "#sample=sample[:20]\n",
        "output=pd.DataFrame(columns=['movies','recommendation'],index=range(len(sample)))\n",
        "\n",
        "ind=0\n",
        "for i in sample.index:\n",
        "  \n",
        "  concat_test=sample.iloc[i]['movies']\n",
        "  test1=str(concat_test).split('\\n')\n",
        "\n",
        "  movies_list=list(movies['title'])\n",
        "  \n",
        "  test=[]\n",
        "  for mov in test1:\n",
        "    if mov not in movies_list:\n",
        "      try:\n",
        "        x=mov.split(\"(\")\n",
        "        y=x[0].replace(\"&\",\"and\")\n",
        "        #print(y)\n",
        "        sub_str=y\n",
        "      except:\n",
        "        a=1\n",
        "\n",
        "      for m in movies_list:\n",
        "        mov_copy=copy.deepcopy(m)\n",
        "        m=m.replace(\"&\",\"and\")\n",
        "        #print(mo)\n",
        "        if(m.find(sub_str)!=-1):\n",
        "          break\n",
        "      test.append(mov_copy) \n",
        "    else:\n",
        "      test.append(mov)   \n",
        "\n",
        "\n",
        "  test_id=[]\n",
        "  for m in test:\n",
        "    try:\n",
        "      test_id.append(list(movies[movies.title==m].movieId)[0])\n",
        "    except:\n",
        "      continue\n",
        "\n",
        "  recommended_movies=[]\n",
        "\n",
        "  for i in range(len(rules_arr)):\n",
        "    if set(list(rules_arr[i][0])).issubset(test_id):\n",
        "      for m in list(rules_arr[i][1]):\n",
        "        if m in recommended_movies or m in test_id:\n",
        "          continue\n",
        "        recommended_movies.append(m)\n",
        "\n",
        "  try:\n",
        "    recommended_movies=recommended_movies[0:20]\n",
        "  except:\n",
        "    recommended_movies=recommended_movies\n",
        "\n",
        "  if len(recommended_movies) < 4 and len(recommended_movies) > 0:\n",
        "    temp_top_rated=copy.deepcopy(top_rated)\n",
        "    for i in range(4-len(recommended_movies)):\n",
        "      max=0.0\n",
        "      for m in temp_top_rated:\n",
        "        sim=cosinesim(test_id,m)\n",
        "        if(sim>max):\n",
        "          max=sim\n",
        "          movie=m\n",
        "      recommended_movies.append(m)\n",
        "      temp_top_rated.remove(m)\n",
        "\n",
        "  \n",
        "  if len(recommended_movies)==0:\n",
        "    recommended_movies=top_rated\n",
        "\n",
        "  n=len(recommended_movies)\n",
        "  for i in range(n):\n",
        "    for j in range(n-i-1):\n",
        "      try:\n",
        "        if(cosinesim(test_id,recommended_movies[j])<cosinesim(test_id,recommended_movies[j+1])):\n",
        "          recommended_movies[j],recommended_movies[j+1]=recommended_movies[j+1],recommended_movies[j]\n",
        "      except:\n",
        "        continue\n",
        "\n",
        "  recommended_movies_name=[]\n",
        "\n",
        "  for id in recommended_movies:\n",
        "    m=(list(movies[movies.movieId==id].title))[0]\n",
        "    recommended_movies_name.append(m)\n",
        "    if len(recommended_movies_name)==4:\n",
        "      break\n",
        "\n",
        "  concat_recommendation=\"\"\n",
        "  for s in recommended_movies_name:\n",
        "    concat_recommendation=concat_recommendation+str(s)+\"\\n\"\n",
        "\n",
        "  #print(concat_recommendation)\n",
        "\n",
        "  output.loc[ind]=[concat_test,concat_recommendation]\n",
        "  ind+=1\n",
        "\n",
        "import joblib\n",
        "joblib.dump(output,'/content/drive/My Drive/DMG_ASS2/output')"
      ],
      "execution_count": null,
      "outputs": [
        {
          "output_type": "execute_result",
          "data": {
            "text/plain": [
              "['/content/drive/My Drive/DMG_ASS2/output']"
            ]
          },
          "metadata": {},
          "execution_count": 117
        }
      ]
    },
    {
      "cell_type": "code",
      "metadata": {
        "id": "GCjmk1IVYyYK"
      },
      "source": [
        "import joblib\n",
        "#output.drop([(list(output))[0]],axis=1)\n",
        "output.to_csv('MT21015_MT21106.tsv',index=False,sep='\\t')\n",
        "#joblib.dump('output.tsv','/content/drive/My Drive/DMG_ASS2/MT21015_MT21106.tsv')"
      ],
      "execution_count": null,
      "outputs": []
    },
    {
      "cell_type": "code",
      "metadata": {
        "colab": {
          "base_uri": "https://localhost:8080/",
          "height": 971
        },
        "id": "GgaqIP35CPlT",
        "outputId": "e02c11d5-3c37-4a14-caf8-f27dd4597997"
      },
      "source": [
        "\n",
        "dfr=pd.read_csv('output.tsv',sep='\\t')\n"
      ],
      "execution_count": null,
      "outputs": [
        {
          "output_type": "execute_result",
          "data": {
            "text/html": [
              "<div>\n",
              "<style scoped>\n",
              "    .dataframe tbody tr th:only-of-type {\n",
              "        vertical-align: middle;\n",
              "    }\n",
              "\n",
              "    .dataframe tbody tr th {\n",
              "        vertical-align: top;\n",
              "    }\n",
              "\n",
              "    .dataframe thead th {\n",
              "        text-align: right;\n",
              "    }\n",
              "</style>\n",
              "<table border=\"1\" class=\"dataframe\">\n",
              "  <thead>\n",
              "    <tr style=\"text-align: right;\">\n",
              "      <th></th>\n",
              "      <th>movies</th>\n",
              "      <th>recommendation</th>\n",
              "    </tr>\n",
              "  </thead>\n",
              "  <tbody>\n",
              "    <tr>\n",
              "      <th>0</th>\n",
              "      <td>Jurassic Park (1993)\\nFirst Kid (1996)\\n101 Da...</td>\n",
              "      <td>Aladdin (1992)\\nDumb &amp; Dumber (Dumb and Dumber...</td>\n",
              "    </tr>\n",
              "    <tr>\n",
              "      <th>1</th>\n",
              "      <td>Liar Liar (1997)\\nAnastasia (1997)\\nMurder at ...</td>\n",
              "      <td>Pulp Fiction (1994)\\nFargo (1996)\\nDonnie Dark...</td>\n",
              "    </tr>\n",
              "    <tr>\n",
              "      <th>2</th>\n",
              "      <td>Clockwork Orange, A (1971)\\nPostino, Il (1994)...</td>\n",
              "      <td>American Beauty (1999)\\nForrest Gump (1994)\\nF...</td>\n",
              "    </tr>\n",
              "    <tr>\n",
              "      <th>3</th>\n",
              "      <td>Toy Story (1995)\\n Pretty Woman (1990)</td>\n",
              "      <td>Monsters, Inc. (2001)\\nToy Story 2 (1999)\\nShr...</td>\n",
              "    </tr>\n",
              "    <tr>\n",
              "      <th>4</th>\n",
              "      <td>Hoop Dreams (1994)\\nOne Flew Over the Cuckoo's...</td>\n",
              "      <td>Godfather, The (1972)\\nGodfather: Part II, The...</td>\n",
              "    </tr>\n",
              "    <tr>\n",
              "      <th>5</th>\n",
              "      <td>Raising Arizona (1987)\\nApocalypse Now (1979)\\...</td>\n",
              "      <td>Forrest Gump (1994)\\nFull Metal Jacket (1987)\\...</td>\n",
              "    </tr>\n",
              "    <tr>\n",
              "      <th>6</th>\n",
              "      <td>Some Like It Hot (1959)\\nCop Land (1997)\\nThis...</td>\n",
              "      <td>Pulp Fiction (1994)\\nFargo (1996)\\nFight Club ...</td>\n",
              "    </tr>\n",
              "    <tr>\n",
              "      <th>7</th>\n",
              "      <td>Titanic (1997)\\nRosewood (1997)\\nSoul Food (19...</td>\n",
              "      <td>Saving Private Ryan (1998)\\nShawshank Redempti...</td>\n",
              "    </tr>\n",
              "    <tr>\n",
              "      <th>8</th>\n",
              "      <td>Toy Story (1995)\\nStar Wars (1977)\\nGodfather,...</td>\n",
              "      <td>Monty Python and the Holy Grail (1975)\\nBack t...</td>\n",
              "    </tr>\n",
              "    <tr>\n",
              "      <th>9</th>\n",
              "      <td>Toy Story (1995)\\nMission: Impossible (1996)\\n...</td>\n",
              "      <td>True Lies (1994)\\nRock, The (1996)\\nGoldenEye ...</td>\n",
              "    </tr>\n",
              "    <tr>\n",
              "      <th>10</th>\n",
              "      <td>2001: A Space Odyssey (1968)\\nLeaving Las Vega...</td>\n",
              "      <td>Forrest Gump (1994)\\nGodfather, The (1972)\\nPu...</td>\n",
              "    </tr>\n",
              "    <tr>\n",
              "      <th>11</th>\n",
              "      <td>Gabbeh (1996)\\nPillow Book, The (1995)\\nBoot, ...</td>\n",
              "      <td>Forrest Gump (1994)\\nMrs. Doubtfire (1993)\\nBr...</td>\n",
              "    </tr>\n",
              "    <tr>\n",
              "      <th>12</th>\n",
              "      <td>Toy Story (1995)\\n Return of the Pink Panther,...</td>\n",
              "      <td>Monsters, Inc. (2001)\\nToy Story 2 (1999)\\nShr...</td>\n",
              "    </tr>\n",
              "    <tr>\n",
              "      <th>13</th>\n",
              "      <td>Rosewood (1997)\\n Money Talks (1997)</td>\n",
              "      <td>Mrs. Doubtfire (1993)\\nBreakfast Club, The (19...</td>\n",
              "    </tr>\n",
              "    <tr>\n",
              "      <th>14</th>\n",
              "      <td>Nightmare on Elm Street, A (1984)\\nInterview w...</td>\n",
              "      <td>Silence of the Lambs, The (1991)\\nFargo (1996)...</td>\n",
              "    </tr>\n",
              "    <tr>\n",
              "      <th>15</th>\n",
              "      <td>Man of No Importance, A (1994)\\n Grease (1978)</td>\n",
              "      <td>Mrs. Doubtfire (1993)\\nBreakfast Club, The (19...</td>\n",
              "    </tr>\n",
              "    <tr>\n",
              "      <th>16</th>\n",
              "      <td>Dead Man Walking (1995)\\nLone Star (1996)\\nIn ...</td>\n",
              "      <td>Forrest Gump (1994)\\nOne Flew Over the Cuckoo'...</td>\n",
              "    </tr>\n",
              "    <tr>\n",
              "      <th>17</th>\n",
              "      <td>Schindler's List (1993)\\nSling Blade (1996)\\nF...</td>\n",
              "      <td>Braveheart (1995)\\nSaving Private Ryan (1998)\\...</td>\n",
              "    </tr>\n",
              "    <tr>\n",
              "      <th>18</th>\n",
              "      <td>Toy Story (1995)\\nCrying Game, The (1992)\\nGan...</td>\n",
              "      <td>Ghost (1990)\\nSleepless in Seattle (1993)\\nFor...</td>\n",
              "    </tr>\n",
              "    <tr>\n",
              "      <th>19</th>\n",
              "      <td>Philadelphia Story, The (1940)\\nLike Water For...</td>\n",
              "      <td>Amelie (Fabuleux destin d'Amélie Poulain, Le) ...</td>\n",
              "    </tr>\n",
              "  </tbody>\n",
              "</table>\n",
              "</div>"
            ],
            "text/plain": [
              "                                               movies                                     recommendation\n",
              "0   Jurassic Park (1993)\\nFirst Kid (1996)\\n101 Da...  Aladdin (1992)\\nDumb & Dumber (Dumb and Dumber...\n",
              "1   Liar Liar (1997)\\nAnastasia (1997)\\nMurder at ...  Pulp Fiction (1994)\\nFargo (1996)\\nDonnie Dark...\n",
              "2   Clockwork Orange, A (1971)\\nPostino, Il (1994)...  American Beauty (1999)\\nForrest Gump (1994)\\nF...\n",
              "3              Toy Story (1995)\\n Pretty Woman (1990)  Monsters, Inc. (2001)\\nToy Story 2 (1999)\\nShr...\n",
              "4   Hoop Dreams (1994)\\nOne Flew Over the Cuckoo's...  Godfather, The (1972)\\nGodfather: Part II, The...\n",
              "5   Raising Arizona (1987)\\nApocalypse Now (1979)\\...  Forrest Gump (1994)\\nFull Metal Jacket (1987)\\...\n",
              "6   Some Like It Hot (1959)\\nCop Land (1997)\\nThis...  Pulp Fiction (1994)\\nFargo (1996)\\nFight Club ...\n",
              "7   Titanic (1997)\\nRosewood (1997)\\nSoul Food (19...  Saving Private Ryan (1998)\\nShawshank Redempti...\n",
              "8   Toy Story (1995)\\nStar Wars (1977)\\nGodfather,...  Monty Python and the Holy Grail (1975)\\nBack t...\n",
              "9   Toy Story (1995)\\nMission: Impossible (1996)\\n...  True Lies (1994)\\nRock, The (1996)\\nGoldenEye ...\n",
              "10  2001: A Space Odyssey (1968)\\nLeaving Las Vega...  Forrest Gump (1994)\\nGodfather, The (1972)\\nPu...\n",
              "11  Gabbeh (1996)\\nPillow Book, The (1995)\\nBoot, ...  Forrest Gump (1994)\\nMrs. Doubtfire (1993)\\nBr...\n",
              "12  Toy Story (1995)\\n Return of the Pink Panther,...  Monsters, Inc. (2001)\\nToy Story 2 (1999)\\nShr...\n",
              "13               Rosewood (1997)\\n Money Talks (1997)  Mrs. Doubtfire (1993)\\nBreakfast Club, The (19...\n",
              "14  Nightmare on Elm Street, A (1984)\\nInterview w...  Silence of the Lambs, The (1991)\\nFargo (1996)...\n",
              "15     Man of No Importance, A (1994)\\n Grease (1978)  Mrs. Doubtfire (1993)\\nBreakfast Club, The (19...\n",
              "16  Dead Man Walking (1995)\\nLone Star (1996)\\nIn ...  Forrest Gump (1994)\\nOne Flew Over the Cuckoo'...\n",
              "17  Schindler's List (1993)\\nSling Blade (1996)\\nF...  Braveheart (1995)\\nSaving Private Ryan (1998)\\...\n",
              "18  Toy Story (1995)\\nCrying Game, The (1992)\\nGan...  Ghost (1990)\\nSleepless in Seattle (1993)\\nFor...\n",
              "19  Philadelphia Story, The (1940)\\nLike Water For...  Amelie (Fabuleux destin d'Amélie Poulain, Le) ..."
            ]
          },
          "metadata": {},
          "execution_count": 112
        }
      ]
    },
    {
      "cell_type": "code",
      "metadata": {
        "id": "f3XyZAFSq5jN",
        "colab": {
          "base_uri": "https://localhost:8080/",
          "height": 217
        },
        "outputId": "2206de45-ec97-4ee7-d67e-52509499268f"
      },
      "source": [
        "test=['Toy Story (1995)',\n",
        "'Star Wars (1977)',\n",
        "'Godfather, The (1972)',\n",
        "'Willy Wonka and the Chocolate Factory (1971)']\n",
        "\n",
        "\n",
        "\n",
        "test_id=[]\n",
        "for m in test:\n",
        "  test_id.append(list(movies[movies.title==m].movieId)[0])\n",
        "\n"
      ],
      "execution_count": null,
      "outputs": [
        {
          "output_type": "error",
          "ename": "IndexError",
          "evalue": "ignored",
          "traceback": [
            "\u001b[0;31m---------------------------------------------------------------------------\u001b[0m",
            "\u001b[0;31mIndexError\u001b[0m                                Traceback (most recent call last)",
            "\u001b[0;32m<ipython-input-64-cfbe4155c9a6>\u001b[0m in \u001b[0;36m<module>\u001b[0;34m()\u001b[0m\n\u001b[1;32m      8\u001b[0m \u001b[0mtest_id\u001b[0m\u001b[0;34m=\u001b[0m\u001b[0;34m[\u001b[0m\u001b[0;34m]\u001b[0m\u001b[0;34m\u001b[0m\u001b[0;34m\u001b[0m\u001b[0m\n\u001b[1;32m      9\u001b[0m \u001b[0;32mfor\u001b[0m \u001b[0mm\u001b[0m \u001b[0;32min\u001b[0m \u001b[0mtest\u001b[0m\u001b[0;34m:\u001b[0m\u001b[0;34m\u001b[0m\u001b[0;34m\u001b[0m\u001b[0m\n\u001b[0;32m---> 10\u001b[0;31m   \u001b[0mtest_id\u001b[0m\u001b[0;34m.\u001b[0m\u001b[0mappend\u001b[0m\u001b[0;34m(\u001b[0m\u001b[0mlist\u001b[0m\u001b[0;34m(\u001b[0m\u001b[0mmovies\u001b[0m\u001b[0;34m[\u001b[0m\u001b[0mmovies\u001b[0m\u001b[0;34m.\u001b[0m\u001b[0mtitle\u001b[0m\u001b[0;34m==\u001b[0m\u001b[0mm\u001b[0m\u001b[0;34m]\u001b[0m\u001b[0;34m.\u001b[0m\u001b[0mmovieId\u001b[0m\u001b[0;34m)\u001b[0m\u001b[0;34m[\u001b[0m\u001b[0;36m0\u001b[0m\u001b[0;34m]\u001b[0m\u001b[0;34m)\u001b[0m\u001b[0;34m\u001b[0m\u001b[0;34m\u001b[0m\u001b[0m\n\u001b[0m\u001b[1;32m     11\u001b[0m \u001b[0;34m\u001b[0m\u001b[0m\n",
            "\u001b[0;31mIndexError\u001b[0m: list index out of range"
          ]
        }
      ]
    },
    {
      "cell_type": "code",
      "source": [
        "txt = \"While You Were Sleeping (1995)\"\n",
        "\n",
        "x = txt.split(\"(\")\n",
        "\n",
        "string='While You Were Sleeping (1995)'\n",
        "sub_str=x[0]\n",
        "\n",
        "string.find(sub_str)"
      ],
      "metadata": {
        "colab": {
          "base_uri": "https://localhost:8080/"
        },
        "id": "cGZu0f_C2TP5",
        "outputId": "e8729224-7c53-4779-94f9-697b77af0fac"
      },
      "execution_count": null,
      "outputs": [
        {
          "output_type": "execute_result",
          "data": {
            "text/plain": [
              "-1"
            ]
          },
          "metadata": {},
          "execution_count": 59
        }
      ]
    },
    {
      "cell_type": "code",
      "source": [
        "pip install sentence_transformers"
      ],
      "metadata": {
        "id": "ZGEGNmb6r5pi"
      },
      "execution_count": null,
      "outputs": []
    },
    {
      "cell_type": "code",
      "source": [
        "import copy\n",
        "\n",
        "test1=['Jurassic Park (1993)'\n",
        ",'First Kid (1996)'\n",
        ",'101 Dalmatians (1996)'\n",
        ",'Homeward Bound: The Incredible Journey (1993)']\n",
        "\n",
        "test=[]\n",
        "\n",
        "#movies_list=np.array(movies['title'])\n",
        "movies_list=list(movies['title'])\n",
        "\n",
        "for mov in test1:\n",
        "  if mov not in movies_list:\n",
        "    try:\n",
        "      x=mov.split(\"(\")\n",
        "      y=x[0].replace(\"&\",\"and\")\n",
        "      #print(y)\n",
        "      sub_str=y\n",
        "    except:\n",
        "      a=1\n",
        "\n",
        "    for m in movies_list:\n",
        "      mov_copy=copy.deepcopy(m)\n",
        "      m=m.replace(\"&\",\"and\")\n",
        "      #print(mo)\n",
        "      if(m.find(sub_str)!=-1):\n",
        "        break\n",
        "    test.append(mov_copy) \n",
        "  else:\n",
        "    test.append(mov)   \n",
        "\n",
        "test_id=[]\n",
        "for m in test:\n",
        "  test_id.append(list(movies[movies.title==m].movieId)[0])\n"
      ],
      "metadata": {
        "id": "845_Fb30rXdD"
      },
      "execution_count": null,
      "outputs": []
    },
    {
      "cell_type": "code",
      "metadata": {
        "id": "GrZvb2PftYKe",
        "colab": {
          "base_uri": "https://localhost:8080/"
        },
        "outputId": "932a0ee0-24d2-49ef-af94-09e7a00033c4"
      },
      "source": [
        "import copy\n",
        "\n",
        "recommended_movies=[]\n",
        "\n",
        "for i in range(len(rules_arr)):\n",
        "  if set(list(rules_arr[i][0])).issubset(test_id):\n",
        "    for m in list(rules_arr[i][1]):\n",
        "      if m in recommended_movies or m in test_id:\n",
        "        continue\n",
        "      recommended_movies.append(m)\n",
        "\n",
        "\n",
        "try:\n",
        "  recommended_movies=recommended_movies[0:20]\n",
        "except:\n",
        "  recommended_movies=recommended_movies\n",
        "\n",
        "if len(recommended_movies) < 4 and len(recommended_movies) > 0:\n",
        "  temp_top_rated=copy.deepcopy(top_rated)\n",
        "  for i in range(4-len(recommended_movies)):\n",
        "    max=0.0\n",
        "    for m in temp_top_rated:\n",
        "      sim=cosinesim(test_id,m)\n",
        "      if(sim>max):\n",
        "        max=sim\n",
        "        movie=m\n",
        "    recommended_movies.append(m)\n",
        "    temp_top_rated.remove(m)\n",
        "\n",
        "\n",
        "if len(recommended_movies)==0:\n",
        "  recommended_movies=top_rated\n",
        "\n",
        "n=len(recommended_movies)\n",
        "for i in range(n):\n",
        "  for j in range(n-i-1):\n",
        "    if(cosinesim(test_id,recommended_movies[j])<cosinesim(test_id,recommended_movies[j+1])):\n",
        "      recommended_movies[j],recommended_movies[j+1]=recommended_movies[j+1],recommended_movies[j]\n",
        "\n",
        "recommended_movies_name=[]\n",
        "\n",
        "for id in recommended_movies:\n",
        "  m=(list(movies[movies.movieId==id].title))[0]\n",
        "  recommended_movies_name.append(m)\n",
        "  if len(recommended_movies_name)==4:\n",
        "    break\n",
        "\n",
        "recommended_movies_name   \n"
      ],
      "execution_count": null,
      "outputs": [
        {
          "output_type": "execute_result",
          "data": {
            "text/plain": [
              "['Aladdin (1992)',\n",
              " 'Dumb & Dumber (Dumb and Dumber) (1994)',\n",
              " 'True Lies (1994)',\n",
              " 'Independence Day (a.k.a. ID4) (1996)']"
            ]
          },
          "metadata": {},
          "execution_count": 90
        }
      ]
    },
    {
      "cell_type": "markdown",
      "metadata": {
        "id": "BrsFTpWRsPIQ"
      },
      "source": [
        "Question 3 - Visualization"
      ]
    },
    {
      "cell_type": "code",
      "metadata": {
        "id": "2-daNWh9xRgB",
        "colab": {
          "base_uri": "https://localhost:8080/"
        },
        "outputId": "534f5d44-644c-4c87-8ec7-2d569826f746"
      },
      "source": [
        "pip install anytree"
      ],
      "execution_count": null,
      "outputs": [
        {
          "output_type": "stream",
          "name": "stdout",
          "text": [
            "Collecting anytree\n",
            "  Downloading anytree-2.8.0-py2.py3-none-any.whl (41 kB)\n",
            "\u001b[?25l\r\u001b[K     |███████▉                        | 10 kB 16.3 MB/s eta 0:00:01\r\u001b[K     |███████████████▊                | 20 kB 22.2 MB/s eta 0:00:01\r\u001b[K     |███████████████████████▋        | 30 kB 27.3 MB/s eta 0:00:01\r\u001b[K     |███████████████████████████████▍| 40 kB 25.0 MB/s eta 0:00:01\r\u001b[K     |████████████████████████████████| 41 kB 489 kB/s \n",
            "\u001b[?25hRequirement already satisfied: six>=1.9.0 in /usr/local/lib/python3.7/dist-packages (from anytree) (1.15.0)\n",
            "Installing collected packages: anytree\n",
            "Successfully installed anytree-2.8.0\n"
          ]
        }
      ]
    },
    {
      "cell_type": "code",
      "metadata": {
        "id": "PGz_BjWExTqi",
        "colab": {
          "base_uri": "https://localhost:8080/"
        },
        "outputId": "10043fac-5daa-4094-e129-99643e84b340"
      },
      "source": [
        "pip install graphviz"
      ],
      "execution_count": null,
      "outputs": [
        {
          "output_type": "stream",
          "name": "stdout",
          "text": [
            "Requirement already satisfied: graphviz in /usr/local/lib/python3.7/dist-packages (0.10.1)\n"
          ]
        }
      ]
    },
    {
      "cell_type": "code",
      "metadata": {
        "id": "Q3pCs2pegYeH"
      },
      "source": [
        "from anytree import NodeMixin, RenderTree\n",
        "class MyBaseClass(object):  \n",
        "     foo = 4\n",
        "class MyClass(MyBaseClass, NodeMixin): \n",
        "\n",
        "  def __init__(self, name, parent=None,children=None):\n",
        "    super(MyClass, self).__init__()\n",
        "    self.name = name\n",
        "    self.parent = parent\n",
        "    if children:  \n",
        "      self.children = children"
      ],
      "execution_count": null,
      "outputs": []
    },
    {
      "cell_type": "code",
      "metadata": {
        "id": "HT5Az9a_JZM9"
      },
      "source": [
        "def support(x,lol):\n",
        "  count=0\n",
        "  for i in lol:\n",
        "    if x in i:\n",
        "      count+=1\n",
        "  \n",
        "  return count/len(lol)"
      ],
      "execution_count": null,
      "outputs": []
    },
    {
      "cell_type": "code",
      "metadata": {
        "id": "mqqLNnj-KUnY"
      },
      "source": [
        "def sortonsupport(tran,lol):\n",
        "  for i in range(len(tran)):\n",
        "    for j in range(len(tran)-i-1):\n",
        "      if(support(tran[j],lol)>support(tran[j+1],lol)):\n",
        "        tran[j],tran[j+1]=tran[j+1],tran[j]\n",
        "\n",
        "  return tran\n"
      ],
      "execution_count": null,
      "outputs": []
    },
    {
      "cell_type": "code",
      "metadata": {
        "id": "CTndqWGiIRA2"
      },
      "source": [
        "def createFPtree(tran_list,maxfreq_list):\n",
        "  root = MyClass('null')\n",
        "\n",
        "  for i in range(len(tran_list)):\n",
        "    x=root\n",
        "    max=0\n",
        "    if(tran_list[i] in maxfreq_list):\n",
        "      max=1\n",
        "    tran=sortonsupport(tran_list[i],tran_list)\n",
        "    \n",
        "    for item in tran:\n",
        "\n",
        "      flag=0\n",
        "      for child in x.children:\n",
        "        if item==child.name:\n",
        "          flag=1\n",
        "          x=child\n",
        "\n",
        "      if flag==0:\n",
        "        if(max==1):\n",
        "          #item=(movies[movies['movieId']==item]).title\n",
        "          #item_nm=(list(item)[0])+'(max)'\n",
        "          item_nm=str(item)+' (MAX)'\n",
        "          node = MyClass(item_nm,  parent=x)\n",
        "        else:\n",
        "          #item=(movies[movies['movieId']==item]).title\n",
        "          #item_nm=list(item)[0]\n",
        "          item_nm=str(item)\n",
        "          node = MyClass(item_nm,  parent=x)\n",
        "        x=node\n",
        "  return root\n"
      ],
      "execution_count": null,
      "outputs": []
    },
    {
      "cell_type": "code",
      "metadata": {
        "id": "qf3-5N18iB-q"
      },
      "source": [
        "from mlxtend.frequent_patterns import fpgrowth\n",
        "from mlxtend.frequent_patterns import fpmax\n",
        "\n",
        "freq_pat=fpgrowth(movies_df, min_support=0.25,use_colnames=True)\n",
        "max_freq_pat=fpmax(movies_df, min_support=0.25,use_colnames=True)\n"
      ],
      "execution_count": null,
      "outputs": []
    },
    {
      "cell_type": "code",
      "metadata": {
        "id": "JuF8cbCHgPK-"
      },
      "source": [
        "from anytree.exporter import UniqueDotExporter\n",
        "\n",
        "freq_items=[]\n",
        "for i in freq_pat.index:\n",
        "  x=list(freq_pat.iloc[i]['itemsets'])\n",
        "  temp=[]\n",
        "  for j in x:\n",
        "    temp.append(j)\n",
        "  freq_items.append(temp)\n",
        "\n",
        "max_freq_items=[]\n",
        "for i in max_freq_pat.index:\n",
        "  x=list(max_freq_pat.iloc[i]['itemsets'])\n",
        "  temp=[]\n",
        "  for j in x:\n",
        "    temp.append(j)\n",
        "  max_freq_items.append(temp)  \n",
        "\n",
        "root=createFPtree(freq_items,max_freq_items)\n",
        "UniqueDotExporter(root).to_picture(\"GOPC_tree.png\")"
      ],
      "execution_count": null,
      "outputs": []
    },
    {
      "cell_type": "markdown",
      "metadata": {
        "id": "0Wfy_r0vwvY7"
      },
      "source": [
        "testing visualization"
      ]
    },
    {
      "cell_type": "code",
      "metadata": {
        "id": "nVpTv-TZwuJH"
      },
      "source": [
        "test=[['B','A','T'],['A','C'],['A','S'],['B','A','C'],['B','S'],['A','S'],['B','S'],['B','A','S','T'],['B','A','S']]\n",
        "root=createFPtree(test,[])\n",
        "\n",
        "from anytree.exporter import UniqueDotExporter\n",
        "\n",
        "UniqueDotExporter(root).to_picture(\"udo.png\")"
      ],
      "execution_count": null,
      "outputs": []
    }
  ]
}